{
 "cells": [
  {
   "cell_type": "code",
   "execution_count": 114,
   "metadata": {},
   "outputs": [
    {
     "output_type": "stream",
     "name": "stdout",
     "text": "Dataframe dictionary completed successfully.\n"
    }
   ],
   "source": [
    "'''\n",
    "    Simple analysis of revision data.\n",
    "\n",
    "    Written by Jackie Chan.\n",
    "'''\n",
    "\n",
    "import pandas as pd\n",
    "import os\n",
    "import sys\n",
    "import datetime as dt\n",
    "import matplotlib.pyplot as pyplot\n",
    "\n",
    "from static_helpers import *\n",
    "\n",
    "titles = get_titles()\n",
    "titles_plus_talk = add_talk_pages(titles)\n",
    "file_names = [title.replace(\":\", \"-\") + \".csv\" for title in titles_plus_talk]\n",
    "\n",
    "file_names.remove('Death of Luo Changqing.csv')\n",
    "file_names.remove('Talk-Death of Luo Changqing.csv')\n",
    "\n",
    "directory = \"10 Year Revision Data\"\n",
    "df_dict = {}\n",
    "desc_col = ['num_editors', 'num_anon_editors', 'num_reg_editors', 'num_edits',\n",
    "    'average_edit_size']\n",
    "desc = pd.DataFrame(columns=desc_col)\n",
    "\n",
    "for file in file_names:\n",
    "    complete_path = os.path.join(directory, file)\n",
    "\n",
    "    if file_exists(complete_path):\n",
    "        df_dict[file] = pd.read_csv(complete_path)\n",
    "\n",
    "        df_dict[file]['pythontime'] = pd.to_datetime(df_dict[file]['timestamp'])\n",
    "        df_dict[file].sort_values(by='pythontime', inplace=True)\n",
    "\n",
    "if df_dict != {}:\n",
    "    print(\"Dataframe dictionary completed successfully.\")\n",
    "\n",
    "desc['titles'] = file_names"
   ]
  },
  {
   "cell_type": "code",
   "execution_count": 115,
   "metadata": {
    "tags": [
     "outputPrepend"
    ]
   },
   "outputs": [
    {
     "output_type": "stream",
     "name": "stdout",
     "text": "titles num_anon_editors\n0                      2019–20 Hong Kong protests.csv              399\n1                                       Hong Kong.csv              150\n2                                      Carrie Lam.csv              154\n3                 2019 Hong Kong extradition bill.csv               54\n4                  2019 Hong Kong local elections.csv               40\n..                                                ...              ...\n73  Talk-List of November 2019 Hong Kong protests.csv                1\n74  Talk-List of December 2019 Hong Kong protests.csv                0\n75                        Talk-Glory to Hong Kong.csv                1\n76                   Talk-Lennon Wall (Hong Kong).csv                3\n77                                Talk-HKmap.live.csv                1\n\n[78 rows x 2 columns]\n"
    }
   ],
   "source": [
    "\n",
    "# print(df_dict['12 June 2019 Hong Kong protest.csv']['user'].nunique())\n",
    "\n",
    "for i, row in desc.iterrows():\n",
    "\n",
    "    file_df = df_dict[row['titles']]\n",
    "    # print(row['titles'])\n",
    "\n",
    "    # Calculating the number of unique editors.\n",
    "    desc.at[i, 'num_editors'] = file_df['user'].nunique()\n",
    "\n",
    "    # Calculating the number of anonymous editors.\n",
    "    # Articles with no anonymous editors do not contain an 'anon' column.\n",
    "    if 'anon' in file_df.columns:\n",
    "        desc.at[i, 'num_anon_editors'] = \\\n",
    "            file_df[file_df['anon'] == True]['user'].nunique()\n",
    "    else:\n",
    "        desc.at[i, 'num_anon_editors'] = 0\n",
    "\n",
    "    # Calculating the number of registered editors.\n",
    "    if 'anon' in file_df.columns:\n",
    "        desc.at[i, 'num_reg_editors'] = \\\n",
    "            file_df[file_df['anon'] != True]['user'].nunique()\n",
    "    else: # If 'anon' column does not exist, then all users are registered.\n",
    "        desc.at[i, 'num_reg_editors'] = file_df['user'].nunique()\n",
    "\n",
    "    # Sanity check for anonymous and registered users.\n",
    "    assert(desc.at[i, 'num_editors'] == \\\n",
    "        desc.at[i, 'num_anon_editors'] + description.at[i, 'num_reg_editors'])\n",
    "\n",
    "    # Calculating number of edits.\n",
    "    desc.at[i, 'num_edits'] = file_df.shape[0]\n",
    "\n",
    "    # Calculating average edit size.\n",
    "    desc.at[i, 'average_edit_size'] = file_df['size'].mean()\n",
    "\n",
    "    # Calculating median edit size.\n",
    "    desc.at[i, 'median_edit_size'] = file_df['size'].median()\n",
    "\n",
    "print(desc[['titles', 'num_anon_editors']])"
   ]
  },
  {
   "cell_type": "code",
   "execution_count": 125,
   "metadata": {},
   "outputs": [
    {
     "output_type": "error",
     "ename": "ValueError",
     "evalue": "The truth value of a Series is ambiguous. Use a.empty, a.bool(), a.item(), a.any() or a.all().",
     "traceback": [
      "\u001b[1;31m---------------------------------------------------------------------------\u001b[0m",
      "\u001b[1;31mValueError\u001b[0m                                Traceback (most recent call last)",
      "\u001b[1;32m<ipython-input-125-7362195c44d1>\u001b[0m in \u001b[0;36m<module>\u001b[1;34m\u001b[0m\n\u001b[0;32m      9\u001b[0m \u001b[0mall_desc\u001b[0m\u001b[1;33m[\u001b[0m\u001b[1;36m0\u001b[0m\u001b[1;33m,\u001b[0m \u001b[1;34m'num_reg_editors'\u001b[0m\u001b[1;33m]\u001b[0m \u001b[1;33m=\u001b[0m \u001b[0mall_df\u001b[0m\u001b[1;33m[\u001b[0m\u001b[0mall_df\u001b[0m\u001b[1;33m[\u001b[0m\u001b[1;34m'anon'\u001b[0m\u001b[1;33m]\u001b[0m \u001b[1;33m!=\u001b[0m \u001b[1;32mTrue\u001b[0m\u001b[1;33m]\u001b[0m\u001b[1;33m[\u001b[0m\u001b[1;34m'user'\u001b[0m\u001b[1;33m]\u001b[0m\u001b[1;33m.\u001b[0m\u001b[0mnunique\u001b[0m\u001b[1;33m(\u001b[0m\u001b[1;33m)\u001b[0m\u001b[1;33m\u001b[0m\u001b[1;33m\u001b[0m\u001b[0m\n\u001b[0;32m     10\u001b[0m \u001b[1;33m\u001b[0m\u001b[0m\n\u001b[1;32m---> 11\u001b[1;33m assert(all_desc[0, 'num_editors'] == \\\n\u001b[0m\u001b[0;32m     12\u001b[0m     (all_desc[0, 'num_anon_editors'] + all_desc[0, 'num_reg_editors']))\n\u001b[0;32m     13\u001b[0m \u001b[1;33m\u001b[0m\u001b[0m\n",
      "\u001b[1;32m~\\AppData\\Local\\Programs\\Python\\Python38-32\\lib\\site-packages\\pandas\\core\\generic.py\u001b[0m in \u001b[0;36m__nonzero__\u001b[1;34m(self)\u001b[0m\n\u001b[0;32m   1476\u001b[0m \u001b[1;33m\u001b[0m\u001b[0m\n\u001b[0;32m   1477\u001b[0m     \u001b[1;32mdef\u001b[0m \u001b[0m__nonzero__\u001b[0m\u001b[1;33m(\u001b[0m\u001b[0mself\u001b[0m\u001b[1;33m)\u001b[0m\u001b[1;33m:\u001b[0m\u001b[1;33m\u001b[0m\u001b[1;33m\u001b[0m\u001b[0m\n\u001b[1;32m-> 1478\u001b[1;33m         raise ValueError(\n\u001b[0m\u001b[0;32m   1479\u001b[0m             \u001b[1;34mf\"The truth value of a {type(self).__name__} is ambiguous. \"\u001b[0m\u001b[1;33m\u001b[0m\u001b[1;33m\u001b[0m\u001b[0m\n\u001b[0;32m   1480\u001b[0m             \u001b[1;34m\"Use a.empty, a.bool(), a.item(), a.any() or a.all().\"\u001b[0m\u001b[1;33m\u001b[0m\u001b[1;33m\u001b[0m\u001b[0m\n",
      "\u001b[1;31mValueError\u001b[0m: The truth value of a Series is ambiguous. Use a.empty, a.bool(), a.item(), a.any() or a.all()."
     ]
    }
   ],
   "source": [
    "all_df = pd.read_csv(\"10 Year Updated.csv\")\n",
    "\n",
    "all_desc = pd.DataFrame(columns=desc_col)\n",
    "\n",
    "all_desc[0, 'num_editors'] = all_df['user'].nunique()\n",
    "\n",
    "all_desc[0, 'num_anon_editors'] = all_df[all_df['anon'] == True]['user'].nunique()\n",
    "\n",
    "all_desc[0, 'num_reg_editors'] = all_df[all_df['anon'] != True]['user'].nunique()\n",
    "\n",
    "assert(all_desc[0, 'num_editors'] == \\\n",
    "    all_desc[0, 'num_anon_editors'] + all_desc[0, 'num_reg_editors'])\n",
    "\n",
    "all_desc[0, 'num_edits'] = all_df.shape[0]\n",
    "\n",
    "all_desc[0, 'average_edit_size'] = all_df['size'].mean()\n",
    "\n",
    "all_desc[0, 'median_edit_size'] = all_df['size'].median()\n",
    "\n",
    "print(all_desc)"
   ]
  },
  {
   "cell_type": "code",
   "execution_count": 116,
   "metadata": {},
   "outputs": [],
   "source": [
    "# Export to CSV\n",
    "desc.to_csv(\"desc_page.csv\", encoding=\"utf-8\")"
   ]
  }
 ],
 "metadata": {
  "language_info": {
   "name": "python",
   "codemirror_mode": {
    "name": "ipython",
    "version": 3
   },
   "version": "3.8.2-final"
  },
  "orig_nbformat": 2,
  "file_extension": ".py",
  "mimetype": "text/x-python",
  "name": "python",
  "npconvert_exporter": "python",
  "pygments_lexer": "ipython3",
  "version": 3,
  "kernelspec": {
   "name": "python38232bitf59d72591f444335b7610e32d11b341a",
   "display_name": "Python 3.8.2 32-bit"
  }
 },
 "nbformat": 4,
 "nbformat_minor": 2
}