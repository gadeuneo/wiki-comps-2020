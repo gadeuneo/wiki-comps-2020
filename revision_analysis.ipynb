{
 "nbformat": 4,
 "nbformat_minor": 2,
 "metadata": {
  "language_info": {
   "name": "python",
   "codemirror_mode": {
    "name": "ipython",
    "version": 3
   },
   "version": "3.8.2-final"
  },
  "orig_nbformat": 2,
  "file_extension": ".py",
  "mimetype": "text/x-python",
  "name": "python",
  "npconvert_exporter": "python",
  "pygments_lexer": "ipython3",
  "version": 3,
  "kernelspec": {
   "name": "python38232bitf59d72591f444335b7610e32d11b341a",
   "display_name": "Python 3.8.2 32-bit"
  }
 },
 "cells": [
  {
   "cell_type": "code",
   "execution_count": 40,
   "metadata": {},
   "outputs": [
    {
     "output_type": "stream",
     "name": "stdout",
     "text": "Dataframe dictionary completed successfully.\n"
    }
   ],
   "source": [
    "import pandas as pd\n",
    "import os\n",
    "import sys\n",
    "import datetime as dt\n",
    "import matplotlib.pyplot as pyplot\n",
    "\n",
    "from static_helpers import *\n",
    "\n",
    "titles = get_titles()\n",
    "titles_plus_talk = add_talk_pages(titles)\n",
    "file_names = [title.replace(\":\", \"-\") + \".csv\" for title in titles_plus_talk]\n",
    "\n",
    "file_names.remove('Death of Luo Changqing.csv')\n",
    "file_names.remove('Talk-Death of Luo Changqing.csv')\n",
    "\n",
    "directory = \"10 Year Revision Data\"\n",
    "df_dict = {}\n",
    "description = pd.DataFrame(columns=['titles', 'num_editors', 'num_anon_editors', 'num_reg_editors', 'num_edits', 'average_edit_size'])\n",
    "\n",
    "for file in file_names:\n",
    "    complete_path = os.path.join(directory, file)\n",
    "\n",
    "    if file_exists(complete_path):\n",
    "        df_dict[file] = pd.read_csv(complete_path)\n",
    "\n",
    "        df_dict[file]['pythontime'] = pd.to_datetime(df_dict[file]['timestamp'])\n",
    "        df_dict[file].sort_values(by='pythontime', inplace=True)\n",
    "\n",
    "if df_dict != {}:\n",
    "    print(\"Dataframe dictionary completed successfully.\")\n",
    "\n",
    "description['titles'] = file_names"
   ]
  },
  {
   "cell_type": "code",
   "execution_count": 96,
   "metadata": {
    "tags": [
     "outputPrepend"
    ]
   },
   "outputs": [
    {
     "output_type": "stream",
     "name": "stdout",
     "text": "titles  ... num_anon_editors\n0                      2019–20 Hong Kong protests.csv  ...              399\n1                                       Hong Kong.csv  ...              150\n2                                      Carrie Lam.csv  ...              154\n3                 2019 Hong Kong extradition bill.csv  ...               54\n4                  2019 Hong Kong local elections.csv  ...               40\n..                                                ...  ...              ...\n73  Talk-List of November 2019 Hong Kong protests.csv  ...                1\n74  Talk-List of December 2019 Hong Kong protests.csv  ...                0\n75                        Talk-Glory to Hong Kong.csv  ...                1\n76                   Talk-Lennon Wall (Hong Kong).csv  ...                3\n77                                Talk-HKmap.live.csv  ...                1\n\n[78 rows x 3 columns]\n"
    }
   ],
   "source": [
    "\n",
    "# print(df_dict['12 June 2019 Hong Kong protest.csv']['user'].nunique())\n",
    "\n",
    "for i, row in description.iterrows():\n",
    "\n",
    "    file_df = df_dict[row['titles']]\n",
    "    # print(row['titles'])\n",
    "\n",
    "    # Calculating the number of unique editors.\n",
    "    description.at[i, 'num_editors'] = file_df['user'].nunique()\n",
    "\n",
    "    # Calculating the number of anonymous editors.\n",
    "    # Articles with no anonymous editors do not contain an 'anon' column.\n",
    "    if 'anon' in file_df.columns:\n",
    "        description.at[i, 'num_anon_editors'] = \\\n",
    "            file_df[file_df['anon'] == True]['user'].nunique()\n",
    "    else:\n",
    "        description.at[i, 'num_anon_editors'] = 0\n",
    "\n",
    "# print(description[['titles', 'num_editors', 'num_anon_editors']])"
   ]
  },
  {
   "cell_type": "code",
   "execution_count": 73,
   "metadata": {},
   "outputs": [],
   "source": [
    "description.to_csv(\"Description.csv\", encoding=\"utf-8\")"
   ]
  }
 ]
}