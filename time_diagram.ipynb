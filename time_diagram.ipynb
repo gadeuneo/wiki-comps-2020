{
 "cells": [
  {
   "cell_type": "code",
   "execution_count": 55,
   "metadata": {},
   "outputs": [
    {
     "name": "stdout",
     "output_type": "stream",
     "text": [
      "File was successfully loaded in.\n"
     ]
    }
   ],
   "source": [
    "# Importing required packages/boilerplate code\n",
    "import pandas as pd\n",
    "import os\n",
    "import sys\n",
    "import time\n",
    "import matplotlib.pyplot as pyplot\n",
    "import numpy\n",
    "\n",
    "from static_helpers import *\n",
    "\n",
    "sys.path.append('../')\n",
    "\n",
    "directory = \"creation\"\n",
    "file_name = \"creation_dates_analysis.csv\"\n",
    "complete_path = os.path.join(directory, file_name)\n",
    "df = []\n",
    "\n",
    "\n",
    "if file_exists(complete_path):\n",
    "    df = pd.read_csv(complete_path)\n",
    "    print(\"File was successfully loaded in.\")\n",
    "else:\n",
    "    print(\"FAIL: File was not loaded in.\")\n",
    "    \n",
    "# print(df)"
   ]
  },
  {
   "cell_type": "code",
   "execution_count": 59,
   "metadata": {},
   "outputs": [],
   "source": [
    "# Add additional columns for the corrected/formatted dates.\n",
    "df['Start Date Formatted'] = 0\n",
    "df['Page Date Formatted'] = 0\n",
    "df['Time Difference'] = 0\n",
    "\n",
    "for i, row in df.iterrows():\n",
    "    unformatted_start_date = df.at[i, 'Start Date']\n",
    "    unformatted_page_date = df.at[i, 'Page Creation Date']\n",
    "    df.at[i, 'Start Date Formatted'] = datetime.strptime(unformatted_start_date, \"%Y-%m-%d\")\n",
    "    df.at[i, 'Page Date Formatted'] = datetime.strptime(unformatted_page_date, \"%Y-%m-%dT%H:%M:%SZ\")\n",
    "    \n",
    "# print(df)\n"
   ]
  },
  {
   "cell_type": "code",
   "execution_count": 74,
   "metadata": {},
   "outputs": [
    {
     "name": "stdout",
     "output_type": "stream",
     "text": [
      "The row below has a page created before the event!\n",
      "                     Titles Start Date Formatted  Page Date Formatted\n",
      "4  Hong Kong 1 July marches  2019-07-01 00:00:00  2005-12-05 16:48:19 \n",
      "\n",
      "\n",
      "The row below has a page created before the event!\n",
      "                Titles Start Date Formatted  Page Date Formatted\n",
      "17  Glory to Hong Kong  2019-09-12 00:00:00  2019-09-10 17:11:18 \n",
      "\n",
      "\n",
      "                                           Titles Start Date Formatted  \\\n",
      "0                      2019–20 Hong Kong protests  2019-03-15 00:00:00   \n",
      "1                 2019 Hong Kong extradition bill  2019-02-13 00:00:00   \n",
      "2                         Murder of Poon Hiu-wing  2018-02-17 00:00:00   \n",
      "3                                       Demosistō  2014-09-28 00:00:00   \n",
      "4                        Hong Kong 1 July marches  2019-07-01 00:00:00   \n",
      "5                        Civil Human Rights Front  2002-09-13 00:00:00   \n",
      "6        Hong Kong Human Rights and Democracy Act  2014-11-20 00:00:00   \n",
      "7        Chinese University of Hong Kong conflict  2019-11-11 00:00:00   \n",
      "8                           Death of Chow Tsz-lok  2019-11-08 00:00:00   \n",
      "9   Siege of the Hong Kong Polytechnic University  2019-11-17 00:00:00   \n",
      "10                          2019 Yuen Long attack  2019-07-21 00:00:00   \n",
      "11    Storming of the Legislative Council Complex  2019-07-01 00:00:00   \n",
      "12                                  Hong Kong Way  2019-08-23 00:00:00   \n",
      "13              2019 Prince Edward station attack  2019-08-31 00:00:00   \n",
      "14                          Death of Chan Yin-lam  2019-09-19 00:00:00   \n",
      "15                 12 June 2019 Hong Kong protest  2019-06-11 00:00:00   \n",
      "16                              Umbrella Movement  2014-09-28 00:00:00   \n",
      "17                             Glory to Hong Kong  2019-09-12 00:00:00   \n",
      "18                        Lennon Wall (Hong Kong)  2014-10-01 00:00:00   \n",
      "19                                     HKmap.live  2019-10-09 00:00:00   \n",
      "20                         Death of Luo Changqing  2019-11-14 00:00:00   \n",
      "\n",
      "    Page Date Formatted      Time Difference  \n",
      "0   2019-06-10 17:14:51    87 days, 17:14:51  \n",
      "1   2019-05-01 11:05:05    77 days, 11:05:05  \n",
      "2   2019-12-01 07:33:59    652 days, 7:33:59  \n",
      "3   2016-04-06 11:59:10   556 days, 11:59:10  \n",
      "4   2005-12-05 16:48:19                    0  \n",
      "5   2007-07-02 13:26:17  1753 days, 13:26:17  \n",
      "6   2017-05-04 00:12:51    896 days, 0:12:51  \n",
      "7   2019-11-12 23:37:20      1 day, 23:37:20  \n",
      "8   2019-11-12 23:20:54     4 days, 23:20:54  \n",
      "9   2019-11-18 04:55:33       1 day, 4:55:33  \n",
      "10  2019-07-22 22:13:59      1 day, 22:13:59  \n",
      "11  2019-08-29 21:28:10    59 days, 21:28:10  \n",
      "12  2019-08-23 22:22:23             22:22:23  \n",
      "13  2019-10-06 06:03:43     36 days, 6:03:43  \n",
      "14  2019-11-12 16:03:13    54 days, 16:03:13  \n",
      "15  2019-11-13 14:01:17   155 days, 14:01:17  \n",
      "16  2014-10-02 00:52:26      4 days, 0:52:26  \n",
      "17  2019-09-10 17:11:18                    0  \n",
      "18  2015-03-24 03:57:09    174 days, 3:57:09  \n",
      "19  2019-10-10 17:00:08      1 day, 17:00:08  \n",
      "20  2020-01-24 05:49:06     71 days, 5:49:06  \n"
     ]
    }
   ],
   "source": [
    "for i, row in df.iterrows():\n",
    "    start_date = df.at[i, 'Start Date Formatted']\n",
    "    page_date = df.at[i, 'Page Date Formatted']\n",
    "    \n",
    "    if (start_date < page_date):\n",
    "        df.at[i, 'Time Difference'] = page_date - start_date\n",
    "    else:\n",
    "        print(\"The row below has a page created before the event!\")\n",
    "        print(df[['Titles', 'Start Date Formatted', 'Page Date Formatted']].loc[[i]], \"\\n\\n\")\n",
    "    \n",
    "print(df[['Titles', 'Start Date Formatted', 'Page Date Formatted', 'Time Difference']])"
   ]
  },
  {
   "cell_type": "code",
   "execution_count": null,
   "metadata": {},
   "outputs": [],
   "source": []
  }
 ],
 "metadata": {
  "kernelspec": {
   "display_name": "Python 3",
   "language": "python",
   "name": "python3"
  },
  "language_info": {
   "codemirror_mode": {
    "name": "ipython",
    "version": 3
   },
   "file_extension": ".py",
   "mimetype": "text/x-python",
   "name": "python",
   "nbconvert_exporter": "python",
   "pygments_lexer": "ipython3",
   "version": "3.6.9"
  }
 },
 "nbformat": 4,
 "nbformat_minor": 4
}
