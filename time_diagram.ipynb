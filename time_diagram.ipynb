{
 "cells": [
  {
   "cell_type": "code",
   "execution_count": 5,
   "metadata": {},
   "outputs": [
    {
     "name": "stdout",
     "output_type": "stream",
     "text": [
      "File was successfully loaded in.\n"
     ]
    }
   ],
   "source": [
    "# Importing required packages/boilerplate code\n",
    "import pandas as pd\n",
    "import os\n",
    "import sys\n",
    "import time\n",
    "import matplotlib.pyplot as plt\n",
    "import numpy as np\n",
    "import datetime as dt\n",
    "\n",
    "from static_helpers import *\n",
    "\n",
    "sys.path.append('../')\n",
    "\n",
    "directory = \"creation\"\n",
    "file_name = \"creation_dates_analysis.csv\"\n",
    "complete_path = os.path.join(directory, file_name)\n",
    "df = []\n",
    "\n",
    "\n",
    "if file_exists(complete_path):\n",
    "    df = pd.read_csv(complete_path)\n",
    "    print(\"File was successfully loaded in.\")\n",
    "else:\n",
    "    print(\"FAIL: File was not loaded in.\")\n",
    "    \n",
    "# print(df)"
   ]
  },
  {
   "cell_type": "code",
   "execution_count": 6,
   "metadata": {},
   "outputs": [],
   "source": [
    "# Add additional columns for the corrected/formatted dates.\n",
    "df['Start Date Formatted'] = 0\n",
    "df['Page Date Formatted'] = 0\n",
    "df['Time Difference'] = dt.timedelta(seconds=0)\n",
    "df['Days Difference'] = 0\n",
    "\n",
    "for i, row in df.iterrows():\n",
    "    unformatted_start_date = df.at[i, 'Start Date']\n",
    "    unformatted_page_date = df.at[i, 'Page Creation Date']\n",
    "    df.at[i, 'Start Date Formatted'] = datetime.strptime(unformatted_start_date, \"%Y-%m-%d\")\n",
    "    df.at[i, 'Page Date Formatted'] = datetime.strptime(unformatted_page_date, \"%Y-%m-%dT%H:%M:%SZ\")\n",
    "    \n",
    "# print(df)\n"
   ]
  },
  {
   "cell_type": "code",
   "execution_count": 7,
   "metadata": {},
   "outputs": [
    {
     "name": "stdout",
     "output_type": "stream",
     "text": [
      "The row below has a page created before the event!\n",
      "                     Titles Start Date Formatted  Page Date Formatted\n",
      "4  Hong Kong 1 July marches  2019-07-01 00:00:00  2005-12-05 16:48:19 \n",
      "\n",
      "\n",
      "                                           Titles    Time Difference  \\\n",
      "0                      2019–20 Hong Kong protests   87 days 17:14:51   \n",
      "1                 2019 Hong Kong extradition bill   77 days 11:05:05   \n",
      "2                         Murder of Poon Hiu-wing  652 days 07:33:59   \n",
      "3                                       Demosistō  556 days 11:59:10   \n",
      "4                        Hong Kong 1 July marches    0 days 00:00:00   \n",
      "5                        Civil Human Rights Front 1753 days 13:26:17   \n",
      "6        Hong Kong Human Rights and Democracy Act  896 days 00:12:51   \n",
      "7        Chinese University of Hong Kong conflict    1 days 23:37:20   \n",
      "8                           Death of Chow Tsz-lok    4 days 23:20:54   \n",
      "9   Siege of the Hong Kong Polytechnic University    1 days 04:55:33   \n",
      "10                          2019 Yuen Long attack    1 days 22:13:59   \n",
      "11    Storming of the Legislative Council Complex   59 days 21:28:10   \n",
      "12                                  Hong Kong Way    0 days 22:22:23   \n",
      "13              2019 Prince Edward station attack   36 days 06:03:43   \n",
      "14                          Death of Chan Yin-lam   54 days 16:03:13   \n",
      "15                 12 June 2019 Hong Kong protest  155 days 14:01:17   \n",
      "16                              Umbrella Movement    4 days 00:52:26   \n",
      "17                             Glory to Hong Kong   15 days 17:11:18   \n",
      "18                        Lennon Wall (Hong Kong)  174 days 03:57:09   \n",
      "19                                     HKmap.live    1 days 17:00:08   \n",
      "20                         Death of Luo Changqing   71 days 05:49:06   \n",
      "\n",
      "    Days Difference  \n",
      "0                87  \n",
      "1                77  \n",
      "2               652  \n",
      "3               556  \n",
      "4                 0  \n",
      "5              1753  \n",
      "6               896  \n",
      "7                 1  \n",
      "8                 4  \n",
      "9                 1  \n",
      "10                1  \n",
      "11               59  \n",
      "12                0  \n",
      "13               36  \n",
      "14               54  \n",
      "15              155  \n",
      "16                4  \n",
      "17               15  \n",
      "18              174  \n",
      "19                1  \n",
      "20               71  \n"
     ]
    }
   ],
   "source": [
    "for i, row in df.iterrows():\n",
    "    start_date = df.at[i, 'Start Date Formatted']\n",
    "    page_date = df.at[i, 'Page Date Formatted']\n",
    "    \n",
    "    if (start_date < page_date):\n",
    "        df.at[i, 'Time Difference'] = page_date - start_date\n",
    "        df.at[i, 'Days Difference'] = df.at[i, 'Time Difference'].days\n",
    "    else:\n",
    "        print(\"The row below has a page created before the event!\")\n",
    "        print(df[['Titles', 'Start Date Formatted', 'Page Date Formatted']].loc[[i]], \"\\n\\n\")\n",
    "    \n",
    "# print(df[['Titles', 'Start Date Formatted']])\n",
    "# print(df[['Titles', 'Start Date Formatted', 'Page Date Formatted', 'Time Difference']])\n",
    "# print(df[['Titles', 'Time Difference']])\n",
    "print(df[['Titles', 'Time Difference', 'Days Difference']])"
   ]
  },
  {
   "cell_type": "code",
   "execution_count": 8,
   "metadata": {},
   "outputs": [
    {
     "name": "stdout",
     "output_type": "stream",
     "text": [
      "                                           Titles    Time Difference  \\\n",
      "9   Siege of the Hong Kong Polytechnic University    1 days 04:55:33   \n",
      "20                         Death of Luo Changqing   71 days 05:49:06   \n",
      "7        Chinese University of Hong Kong conflict    1 days 23:37:20   \n",
      "8                           Death of Chow Tsz-lok    4 days 23:20:54   \n",
      "19                                     HKmap.live    1 days 17:00:08   \n",
      "14                          Death of Chan Yin-lam   54 days 16:03:13   \n",
      "13              2019 Prince Edward station attack   36 days 06:03:43   \n",
      "17                             Glory to Hong Kong   15 days 17:11:18   \n",
      "12                                  Hong Kong Way    0 days 22:22:23   \n",
      "10                          2019 Yuen Long attack    1 days 22:13:59   \n",
      "11    Storming of the Legislative Council Complex   59 days 21:28:10   \n",
      "15                 12 June 2019 Hong Kong protest  155 days 14:01:17   \n",
      "0                      2019–20 Hong Kong protests   87 days 17:14:51   \n",
      "1                 2019 Hong Kong extradition bill   77 days 11:05:05   \n",
      "2                         Murder of Poon Hiu-wing  652 days 07:33:59   \n",
      "6        Hong Kong Human Rights and Democracy Act  896 days 00:12:51   \n",
      "18                        Lennon Wall (Hong Kong)  174 days 03:57:09   \n",
      "16                              Umbrella Movement    4 days 00:52:26   \n",
      "3                                       Demosistō  556 days 11:59:10   \n",
      "5                        Civil Human Rights Front 1753 days 13:26:17   \n",
      "\n",
      "   Start Date Formatted  Page Date Formatted  \n",
      "9   2019-11-17 00:00:00  2019-11-18 04:55:33  \n",
      "20  2019-11-14 00:00:00  2020-01-24 05:49:06  \n",
      "7   2019-11-11 00:00:00  2019-11-12 23:37:20  \n",
      "8   2019-11-08 00:00:00  2019-11-12 23:20:54  \n",
      "19  2019-10-09 00:00:00  2019-10-10 17:00:08  \n",
      "14  2019-09-19 00:00:00  2019-11-12 16:03:13  \n",
      "13  2019-08-31 00:00:00  2019-10-06 06:03:43  \n",
      "17  2019-08-26 00:00:00  2019-09-10 17:11:18  \n",
      "12  2019-08-23 00:00:00  2019-08-23 22:22:23  \n",
      "10  2019-07-21 00:00:00  2019-07-22 22:13:59  \n",
      "11  2019-07-01 00:00:00  2019-08-29 21:28:10  \n",
      "15  2019-06-11 00:00:00  2019-11-13 14:01:17  \n",
      "0   2019-03-15 00:00:00  2019-06-10 17:14:51  \n",
      "1   2019-02-13 00:00:00  2019-05-01 11:05:05  \n",
      "2   2018-02-17 00:00:00  2019-12-01 07:33:59  \n",
      "6   2014-11-20 00:00:00  2017-05-04 00:12:51  \n",
      "18  2014-10-01 00:00:00  2015-03-24 03:57:09  \n",
      "16  2014-09-28 00:00:00  2014-10-02 00:52:26  \n",
      "3   2014-09-28 00:00:00  2016-04-06 11:59:10  \n",
      "5   2002-09-13 00:00:00  2007-07-02 13:26:17  \n"
     ]
    }
   ],
   "source": [
    "# Remove time differences above zero.\n",
    "df_without_errors = df[df['Time Difference'] > dt.timedelta(seconds=0)]\n",
    "# df_without_errors = df[df['Days Difference'] < 10]\n",
    "\n",
    "# Sort the events from top being the earliest, to bottom being the latest.\n",
    "df_without_errors = df_without_errors.sort_values(by=['Start Date Formatted'], ascending=False)\n",
    "\n",
    "print(df_without_errors[['Titles', 'Time Difference', 'Start Date Formatted', 'Page Date Formatted']])"
   ]
  },
  {
   "cell_type": "code",
   "execution_count": 18,
   "metadata": {},
   "outputs": [
    {
     "data": {
      "image/png": "[encoded data removed]",
      "text/plain": [
       "<Figure size 720x360 with 1 Axes>"
      ]
     },
     "metadata": {
      "needs_background": "light"
     },
     "output_type": "display_data"
    }
   ],
   "source": [
    "x = df_without_errors['Days Difference'].tolist()\n",
    "y = df_without_errors['Titles'].tolist()\n",
    "\n",
    "colors = {'Siege of the Hong Kong Polytechnic University':'r',\n",
    "'Death of Luo Changqing':'orange', \n",
    "'Chinese University of Hong Kong conflict':'r', \n",
    "'Death of Chow Tsz-lok':'orange', \n",
    "'HKmap.live':'c', \n",
    "'Death of Chan Yin-lam':'orange', \n",
    "'2019 Prince Edward station attack':'r', \n",
    "'Glory to Hong Kong':'c', \n",
    "'Hong Kong Way':'r', \n",
    "'2019 Yuen Long attack':'r', \n",
    "'Storming of the Legislative Council Complex':'r', \n",
    "'12 June 2019 Hong Kong protest':'r', \n",
    "'2019–20 Hong Kong protests':'b', \n",
    "'2019 Hong Kong extradition bill':'m', \n",
    "'Murder of Poon Hiu-wing':'orange', \n",
    "'Hong Kong Human Rights and Democracy Act':'m', \n",
    "'Lennon Wall (Hong Kong)':'c', \n",
    "'Umbrella Movement':'b', \n",
    "'Demosistō':'g', \n",
    "'Civil Human Rights Front':'g'}\n",
    "\n",
    "# xlabels = [1, 2, 7, 30, 60, 90, 365, 1825]\n",
    "\n",
    "for i, j in zip(x, y):\n",
    "    plt.scatter(i, j, c=colors[j])\n",
    "\n",
    "plt.xlabel(\"Time Difference (days)\")\n",
    "\n",
    "plt.rcParams[\"figure.figsize\"] = (10, 5)\n",
    "\n",
    "# plt.xticks(xlabels)\n",
    "\n",
    "# TODO: fix log scale\n",
    "# plt.xscale(\"log\")\n",
    "\n",
    "plt.grid(True)\n",
    "\n",
    "plt.tight_layout()\n",
    "plt.savefig(\"day_difference_figure.png\", dpi=300)\n",
    "plt.show()"
   ]
  },
  {
   "cell_type": "code",
   "execution_count": null,
   "metadata": {},
   "outputs": [],
   "source": []
  }
 ],
 "metadata": {
  "kernelspec": {
   "display_name": "Python 3",
   "language": "python",
   "name": "python3"
  },
  "language_info": {
   "codemirror_mode": {
    "name": "ipython",
    "version": 3
   },
   "file_extension": ".py",
   "mimetype": "text/x-python",
   "name": "python",
   "nbconvert_exporter": "python",
   "pygments_lexer": "ipython3",
   "version": "3.6.5"
  }
 },
 "nbformat": 4,
 "nbformat_minor": 4
}
