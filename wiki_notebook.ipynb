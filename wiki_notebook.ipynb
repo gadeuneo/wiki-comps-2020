{
 "cells": [
  {
   "cell_type": "code",
   "execution_count": 13,
   "metadata": {},
   "outputs": [],
   "source": [
    "# Importing required packages/boilerplate code\n",
    "import pandas\n",
    "import os\n",
    "import sys\n",
    "import time\n",
    "import matplotlib.pyplot as pyplot\n",
    "import numpy\n",
    "\n",
    "from static_helpers import *\n",
    "\n",
    "sys.path.append('../')\n",
    "\n",
    "titles = get_titles()\n",
    "titles_plus_talk = add_talk_pages(titles)\n",
    "df_dictionary = {}\n",
    "directory = \"10 Year Data\"\n",
    "create_directories([directory])\n",
    "\n",
    "for file in titles_plus_talk:\n",
    "    complete_file_name = os.path.join(directory, file)\n",
    "    \n",
    "    if file_exists(complete_file_name):\n",
    "        df_dictionary[file] = pandas.read_csv(complete_file_name)\n",
    "        \n",
    "        # Adding Python time column\n",
    "        df_dictionary[file]['pythontime'] = pandas.to_datetime(df_dictionary[file]['timestamp'])\n",
    "        df_dictionary[file].sort_values(by='pythontime', inplace=True)\n",
    "        "
   ]
  },
  {
   "cell_type": "code",
   "execution_count": 15,
   "metadata": {},
   "outputs": [
    {
     "output_type": "stream",
     "name": "stdout",
     "text": "['2019–20 Hong Kong protests', 'Hong Kong', '2019 Hong Kong extradition bill', 'Government of Hong Kong', 'Murder of Poon Hiu-wing', 'One country, two systems', 'Demosistō', 'Hong Kong 1 July marches', 'Civil Human Rights Front', 'Hong Kong Human Rights and Democracy Act', 'Chinese University of Hong Kong conflict', 'Death of Chow Tsz-lok', 'Siege of the Hong Kong Polytechnic University', '2019 Yuen Long attack', 'Hong Kong–Mainland China conflict', 'Storming of the Legislative Council Complex', 'Hong Kong Way', '2019 Prince Edward station attack', 'Death of Chan Yin-lam', '2019 Hong Kong local elections', 'List of protests in Hong Kong', 'Police misconduct allegations during the 2019–20 Hong Kong protests', 'Art of the 2019–20 Hong Kong protests', '12 June 2019 Hong Kong protest', 'Umbrella Movement', 'Causes of the 2019–20 Hong Kong protests', 'Tactics and methods surrounding the 2019–20 Hong Kong protests', 'Carrie Lam', 'Reactions to the 2019–20 Hong Kong protests', 'List of early 2019 Hong Kong protests', 'List of July 2019 Hong Kong protests', 'List of August 2019 Hong Kong protests', 'List of September 2019 Hong Kong protests', 'List of October 2019 Hong Kong protests', 'List of November 2019 Hong Kong protests', 'List of December 2019 Hong Kong protests', 'List of January 2020 Hong Kong protests', 'Glory to Hong Kong', 'Lennon Wall (Hong Kong)', 'HKmap.live', 'Killing of Luo Changqing', 'Talk:2019–20 Hong Kong protests', 'Talk:Hong Kong', 'Talk:2019 Hong Kong extradition bill', 'Talk:Government of Hong Kong', 'Talk:Murder of Poon Hiu-wing', 'Talk:One country, two systems', 'Talk:Demosistō', 'Talk:Hong Kong 1 July marches', 'Talk:Civil Human Rights Front', 'Talk:Hong Kong Human Rights and Democracy Act', 'Talk:Chinese University of Hong Kong conflict', 'Talk:Death of Chow Tsz-lok', 'Talk:Siege of the Hong Kong Polytechnic University', 'Talk:2019 Yuen Long attack', 'Talk:Hong Kong–Mainland China conflict', 'Talk:Storming of the Legislative Council Complex', 'Talk:Hong Kong Way', 'Talk:2019 Prince Edward station attack', 'Talk:Death of Chan Yin-lam', 'Talk:2019 Hong Kong local elections', 'Talk:List of protests in Hong Kong', 'Talk:Police misconduct allegations during the 2019–20 Hong Kong protests', 'Talk:Art of the 2019–20 Hong Kong protests', 'Talk:12 June 2019 Hong Kong protest', 'Talk:Umbrella Movement', 'Talk:Causes of the 2019–20 Hong Kong protests', 'Talk:Tactics and methods surrounding the 2019–20 Hong Kong protests', 'Talk:Carrie Lam', 'Talk:Reactions to the 2019–20 Hong Kong protests', 'Talk:List of early 2019 Hong Kong protests', 'Talk:List of July 2019 Hong Kong protests', 'Talk:List of August 2019 Hong Kong protests', 'Talk:List of September 2019 Hong Kong protests', 'Talk:List of October 2019 Hong Kong protests', 'Talk:List of November 2019 Hong Kong protests', 'Talk:List of December 2019 Hong Kong protests', 'Talk:List of January 2020 Hong Kong protests', 'Talk:Glory to Hong Kong', 'Talk:Lennon Wall (Hong Kong)', 'Talk:HKmap.live', 'Talk:Killing of Luo Changqing']\n"
    }
   ],
   "source": [
    "print(titles_plus_talk)"
   ]
  },
  {
   "cell_type": "code",
   "execution_count": 5,
   "metadata": {
    "scrolled": false
   },
   "outputs": [
    {
     "output_type": "execute_result",
     "data": {
      "text/plain": "       Unnamed: 0      revid   parentid                    user      userid  \\\n23582           0  330831005  330723586                Phead128   1290981.0   \n23583           1  330831441  330831005                Phead128   1290981.0   \n23584           2  330920817  330831441           Derek.cashman    343214.0   \n23585           3  331055516  330920817              Craddocktm   9049429.0   \n6688            0  331055742  330747828            TheOnlyOne12   4458362.0   \n...           ...        ...        ...                     ...         ...   \n6687         6687  930079043  930066843  Democratic Backsliding  31562873.0   \n20681          45  930083387  930059250              DoctorHell   5023119.0   \n25940          30  930087885  929920573              SYSS Mouse     74615.0   \n16436         645  930091239  929921155                  Lmmnhn   4599174.0   \n16437         646  930091707  930091239                  Lmmnhn   4599174.0   \n\n                  timestamp    size anon userhidden                pythontime  \n23582  2009-12-10T08:24:36Z  101454  NaN        NaN 2009-12-10 08:24:36+00:00  \n23583  2009-12-10T08:27:52Z  101593  NaN        NaN 2009-12-10 08:27:52+00:00  \n23584  2009-12-10T19:47:14Z  101594  NaN        NaN 2009-12-10 19:47:14+00:00  \n23585  2009-12-11T08:46:32Z  102337  NaN        NaN 2009-12-11 08:46:32+00:00  \n6688   2009-12-11T08:48:30Z   90685  NaN        NaN 2009-12-11 08:48:30+00:00  \n...                     ...     ...  ...        ...                       ...  \n6687   2019-12-10T02:36:05Z  386796  NaN        NaN 2019-12-10 02:36:05+00:00  \n20681  2019-12-10T03:17:55Z    8207  NaN        NaN 2019-12-10 03:17:55+00:00  \n25940  2019-12-10T04:09:36Z    9761  NaN        NaN 2019-12-10 04:09:36+00:00  \n16436  2019-12-10T04:47:10Z   66862  NaN        NaN 2019-12-10 04:47:10+00:00  \n16437  2019-12-10T04:52:15Z   67387  NaN        NaN 2019-12-10 04:52:15+00:00  \n\n[25962 rows x 10 columns]",
      "text/html": "<div>\n<style scoped>\n    .dataframe tbody tr th:only-of-type {\n        vertical-align: middle;\n    }\n\n    .dataframe tbody tr th {\n        vertical-align: top;\n    }\n\n    .dataframe thead th {\n        text-align: right;\n    }\n</style>\n<table border=\"1\" class=\"dataframe\">\n  <thead>\n    <tr style=\"text-align: right;\">\n      <th></th>\n      <th>Unnamed: 0</th>\n      <th>revid</th>\n      <th>parentid</th>\n      <th>user</th>\n      <th>userid</th>\n      <th>timestamp</th>\n      <th>size</th>\n      <th>anon</th>\n      <th>userhidden</th>\n      <th>pythontime</th>\n    </tr>\n  </thead>\n  <tbody>\n    <tr>\n      <th>23582</th>\n      <td>0</td>\n      <td>330831005</td>\n      <td>330723586</td>\n      <td>Phead128</td>\n      <td>1290981.0</td>\n      <td>2009-12-10T08:24:36Z</td>\n      <td>101454</td>\n      <td>NaN</td>\n      <td>NaN</td>\n      <td>2009-12-10 08:24:36+00:00</td>\n    </tr>\n    <tr>\n      <th>23583</th>\n      <td>1</td>\n      <td>330831441</td>\n      <td>330831005</td>\n      <td>Phead128</td>\n      <td>1290981.0</td>\n      <td>2009-12-10T08:27:52Z</td>\n      <td>101593</td>\n      <td>NaN</td>\n      <td>NaN</td>\n      <td>2009-12-10 08:27:52+00:00</td>\n    </tr>\n    <tr>\n      <th>23584</th>\n      <td>2</td>\n      <td>330920817</td>\n      <td>330831441</td>\n      <td>Derek.cashman</td>\n      <td>343214.0</td>\n      <td>2009-12-10T19:47:14Z</td>\n      <td>101594</td>\n      <td>NaN</td>\n      <td>NaN</td>\n      <td>2009-12-10 19:47:14+00:00</td>\n    </tr>\n    <tr>\n      <th>23585</th>\n      <td>3</td>\n      <td>331055516</td>\n      <td>330920817</td>\n      <td>Craddocktm</td>\n      <td>9049429.0</td>\n      <td>2009-12-11T08:46:32Z</td>\n      <td>102337</td>\n      <td>NaN</td>\n      <td>NaN</td>\n      <td>2009-12-11 08:46:32+00:00</td>\n    </tr>\n    <tr>\n      <th>6688</th>\n      <td>0</td>\n      <td>331055742</td>\n      <td>330747828</td>\n      <td>TheOnlyOne12</td>\n      <td>4458362.0</td>\n      <td>2009-12-11T08:48:30Z</td>\n      <td>90685</td>\n      <td>NaN</td>\n      <td>NaN</td>\n      <td>2009-12-11 08:48:30+00:00</td>\n    </tr>\n    <tr>\n      <th>...</th>\n      <td>...</td>\n      <td>...</td>\n      <td>...</td>\n      <td>...</td>\n      <td>...</td>\n      <td>...</td>\n      <td>...</td>\n      <td>...</td>\n      <td>...</td>\n      <td>...</td>\n    </tr>\n    <tr>\n      <th>6687</th>\n      <td>6687</td>\n      <td>930079043</td>\n      <td>930066843</td>\n      <td>Democratic Backsliding</td>\n      <td>31562873.0</td>\n      <td>2019-12-10T02:36:05Z</td>\n      <td>386796</td>\n      <td>NaN</td>\n      <td>NaN</td>\n      <td>2019-12-10 02:36:05+00:00</td>\n    </tr>\n    <tr>\n      <th>20681</th>\n      <td>45</td>\n      <td>930083387</td>\n      <td>930059250</td>\n      <td>DoctorHell</td>\n      <td>5023119.0</td>\n      <td>2019-12-10T03:17:55Z</td>\n      <td>8207</td>\n      <td>NaN</td>\n      <td>NaN</td>\n      <td>2019-12-10 03:17:55+00:00</td>\n    </tr>\n    <tr>\n      <th>25940</th>\n      <td>30</td>\n      <td>930087885</td>\n      <td>929920573</td>\n      <td>SYSS Mouse</td>\n      <td>74615.0</td>\n      <td>2019-12-10T04:09:36Z</td>\n      <td>9761</td>\n      <td>NaN</td>\n      <td>NaN</td>\n      <td>2019-12-10 04:09:36+00:00</td>\n    </tr>\n    <tr>\n      <th>16436</th>\n      <td>645</td>\n      <td>930091239</td>\n      <td>929921155</td>\n      <td>Lmmnhn</td>\n      <td>4599174.0</td>\n      <td>2019-12-10T04:47:10Z</td>\n      <td>66862</td>\n      <td>NaN</td>\n      <td>NaN</td>\n      <td>2019-12-10 04:47:10+00:00</td>\n    </tr>\n    <tr>\n      <th>16437</th>\n      <td>646</td>\n      <td>930091707</td>\n      <td>930091239</td>\n      <td>Lmmnhn</td>\n      <td>4599174.0</td>\n      <td>2019-12-10T04:52:15Z</td>\n      <td>67387</td>\n      <td>NaN</td>\n      <td>NaN</td>\n      <td>2019-12-10 04:52:15+00:00</td>\n    </tr>\n  </tbody>\n</table>\n<p>25962 rows × 10 columns</p>\n</div>"
     },
     "metadata": {},
     "execution_count": 5
    }
   ],
   "source": [
    "# Create a comprehensive data frame (comp_df)\n",
    "all_df = []\n",
    "\n",
    "# Making the dictionary into a list for concatenation\n",
    "for key in df_dictionary.keys():\n",
    "    all_df.append(df_dictionary[key])\n",
    "\n",
    "comp_df = pd.concat(all_df, ignore_index=True, sort=False)\n",
    "comp_df.sort_values(by='pythontime', inplace=True)\n",
    "\n",
    "# Create a CSV file for the comp_df\n",
    "comp_df.to_csv(\"10year.csv\", encoding=\"utf-8\")\n",
    "\n",
    "comp_df"
   ]
  },
  {
   "cell_type": "code",
   "execution_count": 6,
   "metadata": {},
   "outputs": [
    {
     "output_type": "stream",
     "name": "stdout",
     "text": "Registered Editors: 2541, Anon Editors: 1460\n"
    }
   ],
   "source": [
    "# Make data frame for anon and non-anon editors and print out the number of users\n",
    "anon_comp_df = comp_df[comp_df['anon'] == True]\n",
    "no_anon_comp_df = comp_df[comp_df['anon'] != True]\n",
    "unique_editors = no_anon_comp_df['user'].nunique()\n",
    "unique_anon_editors =anon_comp_df['user'].nunique()\n",
    "\n",
    "print(\"Registered Editors: {0}, Anon Editors: {1}\".format(unique_editors, unique_anon_editors))"
   ]
  },
  {
   "cell_type": "code",
   "execution_count": 7,
   "metadata": {},
   "outputs": [
    {
     "output_type": "stream",
     "name": "stdout",
     "text": "Average Edit Size: 117684 bytes, Median Edit Size: 88632 bytes\n"
    }
   ],
   "source": [
    "# Print out the average and median of the edit sizes\n",
    "average_edit_size = comp_df['size'].sum() // comp_df['user'].count()\n",
    "\n",
    "median_edit_size = int(comp_df.median(axis=0)['size'])\n",
    "\n",
    "print(\"Average Edit Size: {0} bytes, Median Edit Size: {1} bytes\".format(average_edit_size, median_edit_size))"
   ]
  },
  {
   "cell_type": "code",
   "execution_count": null,
   "metadata": {},
   "outputs": [],
   "source": []
  }
 ],
 "metadata": {
  "kernelspec": {
   "display_name": "Python 3",
   "language": "python",
   "name": "python3"
  },
  "language_info": {
   "codemirror_mode": {
    "name": "ipython",
    "version": 3
   },
   "file_extension": ".py",
   "mimetype": "text/x-python",
   "name": "python",
   "nbconvert_exporter": "python",
   "pygments_lexer": "ipython3",
   "version": "3.6.9-final"
  }
 },
 "nbformat": 4,
 "nbformat_minor": 2
}